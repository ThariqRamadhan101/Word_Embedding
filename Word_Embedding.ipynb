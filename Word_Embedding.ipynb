{
  "nbformat": 4,
  "nbformat_minor": 0,
  "metadata": {
    "colab": {
      "name": "Word_Embedding.ipynb",
      "provenance": [],
      "collapsed_sections": []
    },
    "kernelspec": {
      "name": "python3",
      "display_name": "Python 3"
    }
  },
  "cells": [
    {
      "cell_type": "code",
      "metadata": {
        "colab": {
          "resources": {
            "http://localhost:8080/nbextensions/google.colab/files.js": {
              "data": "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",
              "ok": true,
              "headers": [
                [
                  "content-type",
                  "application/javascript"
                ]
              ],
              "status": 200,
              "status_text": "OK"
            }
          },
          "base_uri": "https://localhost:8080/",
          "height": 73
        },
        "id": "EgcIsWz0p4U5",
        "outputId": "3ac6792a-bae5-4ef1-a58b-e288245000bd"
      },
      "source": [
        "from google.colab import files\r\n",
        "import pandas as pd\r\n",
        "import io\r\n",
        "\r\n",
        "# Read file by upload\r\n",
        "upload_files = files.upload()\r\n",
        "for filename in upload_files.keys():\r\n",
        "  df = pd.read_csv(io.StringIO(upload_files[filename].decode('latin-1')))"
      ],
      "execution_count": null,
      "outputs": [
        {
          "output_type": "display_data",
          "data": {
            "text/html": [
              "\n",
              "     <input type=\"file\" id=\"files-fac05a37-eb14-4bae-bafa-a81339040f14\" name=\"files[]\" multiple disabled\n",
              "        style=\"border:none\" />\n",
              "     <output id=\"result-fac05a37-eb14-4bae-bafa-a81339040f14\">\n",
              "      Upload widget is only available when the cell has been executed in the\n",
              "      current browser session. Please rerun this cell to enable.\n",
              "      </output>\n",
              "      <script src=\"/nbextensions/google.colab/files.js\"></script> "
            ],
            "text/plain": [
              "<IPython.core.display.HTML object>"
            ]
          },
          "metadata": {
            "tags": []
          }
        },
        {
          "output_type": "stream",
          "text": [
            "Saving clean_tweet.csv to clean_tweet.csv\n"
          ],
          "name": "stdout"
        }
      ]
    },
    {
      "cell_type": "code",
      "metadata": {
        "colab": {
          "base_uri": "https://localhost:8080/"
        },
        "id": "W7qmYcGIqafm",
        "outputId": "474efbd8-a321-418e-c7cc-d2d276d6ffc1"
      },
      "source": [
        "# Checking\r\n",
        "print(df.head().to_markdown())"
      ],
      "execution_count": null,
      "outputs": [
        {
          "output_type": "stream",
          "text": [
            "|    |   Label | Tweet                                                                                                                                                                                 |\n",
            "|---:|--------:|:--------------------------------------------------------------------------------------------------------------------------------------------------------------------------------------|\n",
            "|  0 |       0 | dulu waktu ngomongin asn radikal celana cingkrang puji kok tiba ubah                                                                                                                  |\n",
            "|  1 |       1 | aku wong bodo politik tp turut lihat video celana cingkrang jenggot ga mau salam radikal dlm islam jg ajar                                                                            |\n",
            "|  2 |       1 | asn sukarela pakai celana cingkrang pak                                                                                                                                               |\n",
            "|  3 |       1 | islamofobia idap kuasa tampak jelas bagai nyata program maupun bijak bijak ambil lantik menteri agama fachrul razi langsung wacana larang hijab celana cingkrang asn stopislamofobia  |\n",
            "|  4 |       1 | islamofobia idap kuasa tampak jelas bagai nyata program maupun bijak bijak ambil lantik menteri agama fachrul razi langsung wacana larang hijab celana cingkrang asn stopislamophobia |\n"
          ],
          "name": "stdout"
        }
      ]
    },
    {
      "cell_type": "code",
      "metadata": {
        "id": "T_-lqQI6q330"
      },
      "source": [
        "import json\r\n",
        "import tensorflow as tf\r\n",
        "\r\n",
        "from tensorflow.keras.preprocessing.text import Tokenizer\r\n",
        "from tensorflow.keras.preprocessing.sequence import pad_sequences"
      ],
      "execution_count": null,
      "outputs": []
    },
    {
      "cell_type": "code",
      "metadata": {
        "id": "xoWLerwsq5HY"
      },
      "source": [
        "vocab_size = 10000\r\n",
        "embedding_dim = 16\r\n",
        "max_length = 25\r\n",
        "trunc_type='post'\r\n",
        "padding_type='post'\r\n",
        "oov_tok = \"<OOV>\"\r\n",
        "training_size = 140"
      ],
      "execution_count": null,
      "outputs": []
    },
    {
      "cell_type": "code",
      "metadata": {
        "id": "2ih60a22q_AW"
      },
      "source": [
        "sentences = df['Tweet'].values.tolist()\r\n",
        "labels = df['Label'].values.tolist()\r\n"
      ],
      "execution_count": null,
      "outputs": []
    },
    {
      "cell_type": "code",
      "metadata": {
        "id": "H_vrffiLsWod"
      },
      "source": [
        "training_sentences = sentences[0:training_size]\r\n",
        "testing_sentences = sentences[training_size:]\r\n",
        "training_labels = labels[0:training_size]\r\n",
        "testing_labels = labels[training_size:]"
      ],
      "execution_count": null,
      "outputs": []
    },
    {
      "cell_type": "code",
      "metadata": {
        "id": "0hmKaqt4sWiu"
      },
      "source": [
        "tokenizer = Tokenizer(num_words=vocab_size, oov_token=oov_tok)\r\n",
        "tokenizer.fit_on_texts(training_sentences)\r\n",
        "\r\n",
        "word_index = tokenizer.word_index\r\n",
        "\r\n",
        "training_sequences = tokenizer.texts_to_sequences(training_sentences)\r\n",
        "training_padded = pad_sequences(training_sequences, maxlen=max_length, padding=padding_type, truncating=trunc_type)\r\n",
        "\r\n",
        "testing_sequences = tokenizer.texts_to_sequences(testing_sentences)\r\n",
        "testing_padded = pad_sequences(testing_sequences, maxlen=max_length, padding=padding_type, truncating=trunc_type)"
      ],
      "execution_count": null,
      "outputs": []
    },
    {
      "cell_type": "code",
      "metadata": {
        "id": "DguC_UpvskoZ"
      },
      "source": [
        "# Need this block to get it to work with TensorFlow 2.x\r\n",
        "import numpy as np\r\n",
        "training_padded = np.array(training_padded)\r\n",
        "training_labels = np.array(training_labels)\r\n",
        "testing_padded = np.array(testing_padded)\r\n",
        "testing_labels = np.array(testing_labels)"
      ],
      "execution_count": null,
      "outputs": []
    },
    {
      "cell_type": "code",
      "metadata": {
        "id": "M6ZBTRQtsnUw"
      },
      "source": [
        "model = tf.keras.Sequential([\r\n",
        "    tf.keras.layers.Embedding(vocab_size, embedding_dim, input_length=max_length),\r\n",
        "    tf.keras.layers.GlobalAveragePooling1D(),\r\n",
        "    tf.keras.layers.Dense(24, activation='relu'),\r\n",
        "    tf.keras.layers.Dense(1, activation='sigmoid')\r\n",
        "])\r\n",
        "model.compile(loss='binary_crossentropy',optimizer='adam',metrics=['accuracy'])"
      ],
      "execution_count": null,
      "outputs": []
    },
    {
      "cell_type": "code",
      "metadata": {
        "colab": {
          "base_uri": "https://localhost:8080/"
        },
        "id": "nBxdIt_Psspu",
        "outputId": "681dae94-c512-463d-c41e-9c27cfb9bafd"
      },
      "source": [
        "model.summary()\r\n"
      ],
      "execution_count": null,
      "outputs": [
        {
          "output_type": "stream",
          "text": [
            "Model: \"sequential_1\"\n",
            "_________________________________________________________________\n",
            "Layer (type)                 Output Shape              Param #   \n",
            "=================================================================\n",
            "embedding_1 (Embedding)      (None, 25, 16)            160000    \n",
            "_________________________________________________________________\n",
            "global_average_pooling1d_1 ( (None, 16)                0         \n",
            "_________________________________________________________________\n",
            "dense_2 (Dense)              (None, 24)                408       \n",
            "_________________________________________________________________\n",
            "dense_3 (Dense)              (None, 1)                 25        \n",
            "=================================================================\n",
            "Total params: 160,433\n",
            "Trainable params: 160,433\n",
            "Non-trainable params: 0\n",
            "_________________________________________________________________\n"
          ],
          "name": "stdout"
        }
      ]
    },
    {
      "cell_type": "code",
      "metadata": {
        "colab": {
          "base_uri": "https://localhost:8080/"
        },
        "id": "cZL28BSlst_k",
        "outputId": "aeaab9dd-0dbb-4741-9285-fe4389cabb9e"
      },
      "source": [
        "num_epochs = 50\r\n",
        "history = model.fit(training_padded, training_labels, epochs=num_epochs, validation_data=(testing_padded, testing_labels), verbose=2)"
      ],
      "execution_count": null,
      "outputs": [
        {
          "output_type": "stream",
          "text": [
            "Epoch 1/50\n",
            "5/5 - 0s - loss: 0.6923 - accuracy: 0.5786 - val_loss: 0.6882 - val_accuracy: 0.7101\n",
            "Epoch 2/50\n",
            "5/5 - 0s - loss: 0.6874 - accuracy: 0.6643 - val_loss: 0.6835 - val_accuracy: 0.7101\n",
            "Epoch 3/50\n",
            "5/5 - 0s - loss: 0.6830 - accuracy: 0.6643 - val_loss: 0.6782 - val_accuracy: 0.7101\n",
            "Epoch 4/50\n",
            "5/5 - 0s - loss: 0.6772 - accuracy: 0.6643 - val_loss: 0.6726 - val_accuracy: 0.7101\n",
            "Epoch 5/50\n",
            "5/5 - 0s - loss: 0.6713 - accuracy: 0.6643 - val_loss: 0.6671 - val_accuracy: 0.7101\n",
            "Epoch 6/50\n",
            "5/5 - 0s - loss: 0.6661 - accuracy: 0.6643 - val_loss: 0.6614 - val_accuracy: 0.7101\n",
            "Epoch 7/50\n",
            "5/5 - 0s - loss: 0.6599 - accuracy: 0.6643 - val_loss: 0.6564 - val_accuracy: 0.7101\n",
            "Epoch 8/50\n",
            "5/5 - 0s - loss: 0.6536 - accuracy: 0.6643 - val_loss: 0.6512 - val_accuracy: 0.7101\n",
            "Epoch 9/50\n",
            "5/5 - 0s - loss: 0.6469 - accuracy: 0.6643 - val_loss: 0.6458 - val_accuracy: 0.7101\n",
            "Epoch 10/50\n",
            "5/5 - 0s - loss: 0.6393 - accuracy: 0.6643 - val_loss: 0.6408 - val_accuracy: 0.7101\n",
            "Epoch 11/50\n",
            "5/5 - 0s - loss: 0.6321 - accuracy: 0.6643 - val_loss: 0.6350 - val_accuracy: 0.7101\n",
            "Epoch 12/50\n",
            "5/5 - 0s - loss: 0.6229 - accuracy: 0.6643 - val_loss: 0.6300 - val_accuracy: 0.7101\n",
            "Epoch 13/50\n",
            "5/5 - 0s - loss: 0.6147 - accuracy: 0.6643 - val_loss: 0.6243 - val_accuracy: 0.7101\n",
            "Epoch 14/50\n",
            "5/5 - 0s - loss: 0.6046 - accuracy: 0.6643 - val_loss: 0.6191 - val_accuracy: 0.7101\n",
            "Epoch 15/50\n",
            "5/5 - 0s - loss: 0.5949 - accuracy: 0.6643 - val_loss: 0.6140 - val_accuracy: 0.7101\n",
            "Epoch 16/50\n",
            "5/5 - 0s - loss: 0.5832 - accuracy: 0.6643 - val_loss: 0.6100 - val_accuracy: 0.7101\n",
            "Epoch 17/50\n",
            "5/5 - 0s - loss: 0.5725 - accuracy: 0.6643 - val_loss: 0.6051 - val_accuracy: 0.7101\n",
            "Epoch 18/50\n",
            "5/5 - 0s - loss: 0.5604 - accuracy: 0.6643 - val_loss: 0.6017 - val_accuracy: 0.7101\n",
            "Epoch 19/50\n",
            "5/5 - 0s - loss: 0.5476 - accuracy: 0.6643 - val_loss: 0.5985 - val_accuracy: 0.7101\n",
            "Epoch 20/50\n",
            "5/5 - 0s - loss: 0.5351 - accuracy: 0.6643 - val_loss: 0.5946 - val_accuracy: 0.7101\n",
            "Epoch 21/50\n",
            "5/5 - 0s - loss: 0.5211 - accuracy: 0.6643 - val_loss: 0.5919 - val_accuracy: 0.7101\n",
            "Epoch 22/50\n",
            "5/5 - 0s - loss: 0.5070 - accuracy: 0.6643 - val_loss: 0.5887 - val_accuracy: 0.7101\n",
            "Epoch 23/50\n",
            "5/5 - 0s - loss: 0.4925 - accuracy: 0.6714 - val_loss: 0.5859 - val_accuracy: 0.7101\n",
            "Epoch 24/50\n",
            "5/5 - 0s - loss: 0.4775 - accuracy: 0.6929 - val_loss: 0.5836 - val_accuracy: 0.7101\n",
            "Epoch 25/50\n",
            "5/5 - 0s - loss: 0.4623 - accuracy: 0.7357 - val_loss: 0.5819 - val_accuracy: 0.7246\n",
            "Epoch 26/50\n",
            "5/5 - 0s - loss: 0.4469 - accuracy: 0.8000 - val_loss: 0.5800 - val_accuracy: 0.7246\n",
            "Epoch 27/50\n",
            "5/5 - 0s - loss: 0.4318 - accuracy: 0.8357 - val_loss: 0.5783 - val_accuracy: 0.7246\n",
            "Epoch 28/50\n",
            "5/5 - 0s - loss: 0.4165 - accuracy: 0.8643 - val_loss: 0.5756 - val_accuracy: 0.7101\n",
            "Epoch 29/50\n",
            "5/5 - 0s - loss: 0.4012 - accuracy: 0.8643 - val_loss: 0.5734 - val_accuracy: 0.7101\n",
            "Epoch 30/50\n",
            "5/5 - 0s - loss: 0.3860 - accuracy: 0.8714 - val_loss: 0.5712 - val_accuracy: 0.7246\n",
            "Epoch 31/50\n",
            "5/5 - 0s - loss: 0.3707 - accuracy: 0.8929 - val_loss: 0.5690 - val_accuracy: 0.7246\n",
            "Epoch 32/50\n",
            "5/5 - 0s - loss: 0.3560 - accuracy: 0.9143 - val_loss: 0.5677 - val_accuracy: 0.7101\n",
            "Epoch 33/50\n",
            "5/5 - 0s - loss: 0.3416 - accuracy: 0.9286 - val_loss: 0.5660 - val_accuracy: 0.7101\n",
            "Epoch 34/50\n",
            "5/5 - 0s - loss: 0.3276 - accuracy: 0.9429 - val_loss: 0.5639 - val_accuracy: 0.7101\n",
            "Epoch 35/50\n",
            "5/5 - 0s - loss: 0.3139 - accuracy: 0.9429 - val_loss: 0.5624 - val_accuracy: 0.7391\n",
            "Epoch 36/50\n",
            "5/5 - 0s - loss: 0.3010 - accuracy: 0.9500 - val_loss: 0.5613 - val_accuracy: 0.7391\n",
            "Epoch 37/50\n",
            "5/5 - 0s - loss: 0.2879 - accuracy: 0.9571 - val_loss: 0.5611 - val_accuracy: 0.7246\n",
            "Epoch 38/50\n",
            "5/5 - 0s - loss: 0.2749 - accuracy: 0.9571 - val_loss: 0.5605 - val_accuracy: 0.7246\n",
            "Epoch 39/50\n",
            "5/5 - 0s - loss: 0.2630 - accuracy: 0.9571 - val_loss: 0.5604 - val_accuracy: 0.7391\n",
            "Epoch 40/50\n",
            "5/5 - 0s - loss: 0.2518 - accuracy: 0.9643 - val_loss: 0.5603 - val_accuracy: 0.7391\n",
            "Epoch 41/50\n",
            "5/5 - 0s - loss: 0.2398 - accuracy: 0.9643 - val_loss: 0.5606 - val_accuracy: 0.6957\n",
            "Epoch 42/50\n",
            "5/5 - 0s - loss: 0.2293 - accuracy: 0.9786 - val_loss: 0.5612 - val_accuracy: 0.6812\n",
            "Epoch 43/50\n",
            "5/5 - 0s - loss: 0.2191 - accuracy: 0.9857 - val_loss: 0.5621 - val_accuracy: 0.6812\n",
            "Epoch 44/50\n",
            "5/5 - 0s - loss: 0.2095 - accuracy: 0.9857 - val_loss: 0.5624 - val_accuracy: 0.6957\n",
            "Epoch 45/50\n",
            "5/5 - 0s - loss: 0.1998 - accuracy: 0.9929 - val_loss: 0.5622 - val_accuracy: 0.6957\n",
            "Epoch 46/50\n",
            "5/5 - 0s - loss: 0.1907 - accuracy: 0.9929 - val_loss: 0.5623 - val_accuracy: 0.6957\n",
            "Epoch 47/50\n",
            "5/5 - 0s - loss: 0.1821 - accuracy: 0.9929 - val_loss: 0.5629 - val_accuracy: 0.7101\n",
            "Epoch 48/50\n",
            "5/5 - 0s - loss: 0.1737 - accuracy: 0.9929 - val_loss: 0.5632 - val_accuracy: 0.7246\n",
            "Epoch 49/50\n",
            "5/5 - 0s - loss: 0.1658 - accuracy: 0.9929 - val_loss: 0.5637 - val_accuracy: 0.7246\n",
            "Epoch 50/50\n",
            "5/5 - 0s - loss: 0.1581 - accuracy: 0.9929 - val_loss: 0.5642 - val_accuracy: 0.7246\n"
          ],
          "name": "stdout"
        }
      ]
    },
    {
      "cell_type": "code",
      "metadata": {
        "colab": {
          "base_uri": "https://localhost:8080/",
          "height": 541
        },
        "id": "snqNCm6juuxC",
        "outputId": "a542ca4c-1a3e-4d8d-aa1a-0e7c64be0340"
      },
      "source": [
        "import matplotlib.pyplot as plt\r\n",
        "\r\n",
        "\r\n",
        "def plot_graphs(history, string):\r\n",
        "  plt.plot(history.history[string])\r\n",
        "  plt.plot(history.history['val_'+string])\r\n",
        "  plt.xlabel(\"Epochs\")\r\n",
        "  plt.ylabel(string)\r\n",
        "  plt.legend([string, 'val_'+string])\r\n",
        "  plt.show()\r\n",
        "  \r\n",
        "plot_graphs(history, \"accuracy\")\r\n",
        "plot_graphs(history, \"loss\")"
      ],
      "execution_count": null,
      "outputs": [
        {
          "output_type": "display_data",
          "data": {
            "image/png": "[encoded data removed]",
            "text/plain": [
              "<Figure size 432x288 with 1 Axes>"
            ]
          },
          "metadata": {
            "tags": [],
            "needs_background": "light"
          }
        },
        {
          "output_type": "display_data",
          "data": {
            "image/png": "[encoded data removed]",
            "text/plain": [
              "<Figure size 432x288 with 1 Axes>"
            ]
          },
          "metadata": {
            "tags": [],
            "needs_background": "light"
          }
        }
      ]
    },
    {
      "cell_type": "code",
      "metadata": {
        "id": "kR3sHyZSvU5u"
      },
      "source": [
        "\t# predict probabilities for test set\r\n",
        "pred_test = model.predict(testing_padded)\r\n",
        "pred_test = np.where(pred_test>=0.5, 1, 0) \r\n",
        "pred_test = pred_test.flatten()"
      ],
      "execution_count": null,
      "outputs": []
    },
    {
      "cell_type": "code",
      "metadata": {
        "colab": {
          "base_uri": "https://localhost:8080/"
        },
        "id": "H_yb-JRqzLxZ",
        "outputId": "d12ced17-fae8-4435-eaef-e1abcb004cb5"
      },
      "source": [
        " tf.math.confusion_matrix(testing_labels, pred_test) "
      ],
      "execution_count": null,
      "outputs": [
        {
          "output_type": "execute_result",
          "data": {
            "text/plain": [
              "<tf.Tensor: shape=(2, 2), dtype=int32, numpy=\n",
              "array([[44,  5],\n",
              "       [14,  6]], dtype=int32)>"
            ]
          },
          "metadata": {
            "tags": []
          },
          "execution_count": 44
        }
      ]
    },
    {
      "cell_type": "code",
      "metadata": {
        "colab": {
          "base_uri": "https://localhost:8080/"
        },
        "id": "UvYXKJ_etLKM",
        "outputId": "94da159c-6643-489f-8a34-4960f177eedf"
      },
      "source": [
        "reverse_word_index = dict([(value, key) for (key, value) in word_index.items()])\r\n",
        "\r\n",
        "def decode_sentence(text):\r\n",
        "    return ' '.join([reverse_word_index.get(i, '?') for i in text])\r\n",
        "\r\n",
        "print(decode_sentence(training_padded[2]))\r\n",
        "print(training_sentences[2])\r\n",
        "print(labels[2])"
      ],
      "execution_count": null,
      "outputs": [
        {
          "output_type": "stream",
          "text": [
            "asn sukarela pakai celana cingkrang pak ? ? ? ? ? ? ? ? ? ? ? ? ? ? ? ? ? ? ? ? ? ? ? ? ? ? ? ? ? ? ? ? ? ? ? ? ? ? ? ? ? ? ? ? ? ? ? ? ? ? ? ? ? ? ? ? ? ? ? ? ? ? ? ? ? ? ? ? ? ? ? ? ? ? ? ? ? ? ? ? ? ? ? ? ? ? ? ? ? ? ? ? ? ?\n",
            "asn sukarela pakai celana cingkrang pak\n",
            "1\n"
          ],
          "name": "stdout"
        }
      ]
    },
    {
      "cell_type": "code",
      "metadata": {
        "colab": {
          "base_uri": "https://localhost:8080/"
        },
        "id": "W4wCCZFxtSRX",
        "outputId": "8445167c-16e6-4945-d671-43212431e6aa"
      },
      "source": [
        "sentence = [\"cingkrang cadar jelek benci asn goblok\", \"ulama setuju asn cingkrang\", \"saya tidak setuju asn cingkrang\"]\r\n",
        "sequences = tokenizer.texts_to_sequences(sentence)\r\n",
        "padded = pad_sequences(sequences, maxlen=max_length, padding=padding_type, truncating=trunc_type)\r\n",
        "print(model.predict(padded))"
      ],
      "execution_count": null,
      "outputs": [
        {
          "output_type": "stream",
          "text": [
            "[[0.39613473]\n",
            " [0.647123  ]\n",
            " [0.58242315]]\n"
          ],
          "name": "stdout"
        }
      ]
    }
  ]
}